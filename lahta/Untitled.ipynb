{
 "cells": [
  {
   "cell_type": "code",
   "execution_count": 18,
   "id": "20972808-976b-43b9-864c-70b2e7c8169c",
   "metadata": {},
   "outputs": [],
   "source": [
    "import pandas as pd\n",
    "import json"
   ]
  },
  {
   "cell_type": "code",
   "execution_count": 19,
   "id": "2557351e-ef6b-429c-ab60-9a9a89e4faec",
   "metadata": {},
   "outputs": [
    {
     "data": {
      "text/html": [
       "<div>\n",
       "<style scoped>\n",
       "    .dataframe tbody tr th:only-of-type {\n",
       "        vertical-align: middle;\n",
       "    }\n",
       "\n",
       "    .dataframe tbody tr th {\n",
       "        vertical-align: top;\n",
       "    }\n",
       "\n",
       "    .dataframe thead th {\n",
       "        text-align: right;\n",
       "    }\n",
       "</style>\n",
       "<table border=\"1\" class=\"dataframe\">\n",
       "  <thead>\n",
       "    <tr style=\"text-align: right;\">\n",
       "      <th></th>\n",
       "      <th>prm</th>\n",
       "      <th>res</th>\n",
       "    </tr>\n",
       "  </thead>\n",
       "  <tbody>\n",
       "    <tr>\n",
       "      <th>0</th>\n",
       "      <td>[-0.561, 0.307, -0.14499999999999902, -0.26, -...</td>\n",
       "      <td>3415.213576</td>\n",
       "    </tr>\n",
       "    <tr>\n",
       "      <th>1</th>\n",
       "      <td>[-0.561, 0.307, -0.14499999999999902, -0.26, -...</td>\n",
       "      <td>3415.213576</td>\n",
       "    </tr>\n",
       "    <tr>\n",
       "      <th>2</th>\n",
       "      <td>[-0.561, 0.307, -0.14499999999999902, -0.26, -...</td>\n",
       "      <td>3415.213576</td>\n",
       "    </tr>\n",
       "    <tr>\n",
       "      <th>3</th>\n",
       "      <td>[-0.561, 0.307, -0.14499999999999902, -0.26, -...</td>\n",
       "      <td>3415.213576</td>\n",
       "    </tr>\n",
       "    <tr>\n",
       "      <th>4</th>\n",
       "      <td>[-0.561, 0.307, -0.14499999999999902, -0.26, -...</td>\n",
       "      <td>3415.213576</td>\n",
       "    </tr>\n",
       "    <tr>\n",
       "      <th>...</th>\n",
       "      <td>...</td>\n",
       "      <td>...</td>\n",
       "    </tr>\n",
       "    <tr>\n",
       "      <th>8638</th>\n",
       "      <td>[-0.329, 0.307, -0.219, -0.28699999999999903, ...</td>\n",
       "      <td>88.788531</td>\n",
       "    </tr>\n",
       "    <tr>\n",
       "      <th>8639</th>\n",
       "      <td>[-0.325, 0.307, -0.219, -0.28599999999999903, ...</td>\n",
       "      <td>88.878414</td>\n",
       "    </tr>\n",
       "    <tr>\n",
       "      <th>8640</th>\n",
       "      <td>[-0.325, 0.307, -0.221, -0.28599999999999903, ...</td>\n",
       "      <td>102.423321</td>\n",
       "    </tr>\n",
       "    <tr>\n",
       "      <th>8641</th>\n",
       "      <td>[-0.278, 0.307, -0.21299999999999902, -0.28599...</td>\n",
       "      <td>78.987757</td>\n",
       "    </tr>\n",
       "    <tr>\n",
       "      <th>8642</th>\n",
       "      <td>[-0.278, 0.307, -0.21299999999999902, -0.28599...</td>\n",
       "      <td>78.987757</td>\n",
       "    </tr>\n",
       "  </tbody>\n",
       "</table>\n",
       "<p>8643 rows × 2 columns</p>\n",
       "</div>"
      ],
      "text/plain": [
       "                                                    prm          res\n",
       "0     [-0.561, 0.307, -0.14499999999999902, -0.26, -...  3415.213576\n",
       "1     [-0.561, 0.307, -0.14499999999999902, -0.26, -...  3415.213576\n",
       "2     [-0.561, 0.307, -0.14499999999999902, -0.26, -...  3415.213576\n",
       "3     [-0.561, 0.307, -0.14499999999999902, -0.26, -...  3415.213576\n",
       "4     [-0.561, 0.307, -0.14499999999999902, -0.26, -...  3415.213576\n",
       "...                                                 ...          ...\n",
       "8638  [-0.329, 0.307, -0.219, -0.28699999999999903, ...    88.788531\n",
       "8639  [-0.325, 0.307, -0.219, -0.28599999999999903, ...    88.878414\n",
       "8640  [-0.325, 0.307, -0.221, -0.28599999999999903, ...   102.423321\n",
       "8641  [-0.278, 0.307, -0.21299999999999902, -0.28599...    78.987757\n",
       "8642  [-0.278, 0.307, -0.21299999999999902, -0.28599...    78.987757\n",
       "\n",
       "[8643 rows x 2 columns]"
      ]
     },
     "execution_count": 19,
     "metadata": {},
     "output_type": "execute_result"
    }
   ],
   "source": [
    "\n",
    "pdd=pd.read_json(\"data/gpg.json\")\n",
    "pdd.s"
   ]
  },
  {
   "cell_type": "code",
   "execution_count": 8,
   "id": "1793ae8a-add0-4d16-b6cc-00040dba4b24",
   "metadata": {},
   "outputs": [],
   "source": [
    "import os"
   ]
  },
  {
   "cell_type": "code",
   "execution_count": 10,
   "id": "63bdb234-ea9c-45f8-b2ad-f3fcfd30609c",
   "metadata": {},
   "outputs": [
    {
     "data": {
      "text/plain": [
       "'/home/jovyan'"
      ]
     },
     "execution_count": 10,
     "metadata": {},
     "output_type": "execute_result"
    }
   ],
   "source": [
    "os.environ['PWD']"
   ]
  },
  {
   "cell_type": "code",
   "execution_count": 11,
   "id": "d68cd02c-584c-446a-a97c-40c9fbb586f8",
   "metadata": {},
   "outputs": [],
   "source": [
    "import sys"
   ]
  },
  {
   "cell_type": "code",
   "execution_count": 12,
   "id": "50082c52-c468-43bc-b454-432313ddebea",
   "metadata": {},
   "outputs": [
    {
     "data": {
      "text/plain": [
       "['/home/jovyan/mmodel/lahta',\n",
       " '/opt/conda/lib/python310.zip',\n",
       " '/opt/conda/lib/python3.10',\n",
       " '/opt/conda/lib/python3.10/lib-dynload',\n",
       " '',\n",
       " '/opt/conda/lib/python3.10/site-packages']"
      ]
     },
     "execution_count": 12,
     "metadata": {},
     "output_type": "execute_result"
    }
   ],
   "source": [
    "sys.path"
   ]
  },
  {
   "cell_type": "code",
   "execution_count": null,
   "id": "089fcbc6-d70a-4266-86cf-b460cd56a882",
   "metadata": {},
   "outputs": [],
   "source": []
  }
 ],
 "metadata": {
  "kernelspec": {
   "display_name": "Python 3 (ipykernel)",
   "language": "python",
   "name": "python3"
  },
  "language_info": {
   "codemirror_mode": {
    "name": "ipython",
    "version": 3
   },
   "file_extension": ".py",
   "mimetype": "text/x-python",
   "name": "python",
   "nbconvert_exporter": "python",
   "pygments_lexer": "ipython3",
   "version": "3.10.6"
  }
 },
 "nbformat": 4,
 "nbformat_minor": 5
}
